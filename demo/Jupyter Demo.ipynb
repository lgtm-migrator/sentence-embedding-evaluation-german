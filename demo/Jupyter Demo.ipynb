{
 "cells": [
  {
   "cell_type": "code",
   "execution_count": 1,
   "id": "4743dc34-766e-4e29-9e6f-6bf894f73c68",
   "metadata": {},
   "outputs": [],
   "source": [
    "import sys\n",
    "sys.path.append('..')"
   ]
  },
  {
   "cell_type": "code",
   "execution_count": 2,
   "id": "d97215c2-0daa-4d18-9b95-013791d9c3cb",
   "metadata": {},
   "outputs": [
    {
     "name": "stderr",
     "output_type": "stream",
     "text": [
      "/Users/uh/projects/paper-293/sentence-embedding-evaluation-german/.venv/lib/python3.7/site-packages/tqdm/auto.py:22: TqdmWarning: IProgress not found. Please update jupyter and ipywidgets. See https://ipywidgets.readthedocs.io/en/stable/user_install.html\n",
      "  from .autonotebook import tqdm as notebook_tqdm\n"
     ]
    }
   ],
   "source": [
    "import sentence_embedding_evaluation_german as seeg\n",
    "import torch\n",
    "from typing import List"
   ]
  },
  {
   "cell_type": "markdown",
   "id": "0fbef9d6-654d-4188-a052-9143061d8cd5",
   "metadata": {},
   "source": [
    "## (1) Instantiate your Embedding model\n",
    "First, you should load your pretrained embedding.\n",
    "\n",
    "Here we will generate a random embedding for demonstration purposes."
   ]
  },
  {
   "cell_type": "code",
   "execution_count": 3,
   "id": "2d3cfc31-31ad-441e-869d-9970f7071a8d",
   "metadata": {},
   "outputs": [],
   "source": [
    "# generate a random embedding\n",
    "emb_dim = 512\n",
    "vocab_sz = 128\n",
    "emb = torch.randn((vocab_sz, emb_dim), requires_grad=False)\n",
    "emb = torch.nn.Embedding.from_pretrained(emb)\n",
    "# assert emb.weight.requires_grad == False"
   ]
  },
  {
   "cell_type": "markdown",
   "id": "8d877f18-a1e3-40ce-bd86-110169b6c8de",
   "metadata": {},
   "source": [
    "## (2) Specify the preprocessing\n",
    "The `preprocessor` function converts a sentences as string into embedding vectors of numbers.\n",
    "\n",
    "Here we will convert the input strings with a nonsensical approach into IDs for the Embedding layer."
   ]
  },
  {
   "cell_type": "code",
   "execution_count": 4,
   "id": "94c4dc56-c9d8-4e06-801e-3ae869852d4d",
   "metadata": {},
   "outputs": [],
   "source": [
    "def preprocesser(batch: List[str], params: dict=None) -> List[List[float]]:\n",
    "    \"\"\" Specify your embedding or pretrained encoder here\n",
    "    Paramters:\n",
    "    ----------\n",
    "    params : dict\n",
    "        The params dictionary\n",
    "    batch : List[str]\n",
    "        A list of sentence as string\n",
    "    Returns:\n",
    "    --------\n",
    "    List[List[float]]\n",
    "        A list of embedding vectors\n",
    "    \"\"\"\n",
    "    features = []\n",
    "    for sent in batch:\n",
    "        try:\n",
    "            ids = torch.tensor([ord(c) % 128 for c in sent])\n",
    "        except:\n",
    "            print(sent)\n",
    "        h = emb(ids)\n",
    "        features.append(h.mean(axis=0))\n",
    "    features = torch.stack(features, dim=0)\n",
    "    return features"
   ]
  },
  {
   "cell_type": "markdown",
   "id": "fd310db5-7909-406a-b125-c37325b87105",
   "metadata": {},
   "source": [
    "## (3) Training settings"
   ]
  },
  {
   "cell_type": "code",
   "execution_count": 5,
   "id": "02deec53-b58b-4d5f-ae37-77d69f2b4071",
   "metadata": {},
   "outputs": [],
   "source": [
    "params = {\n",
    "    'datafolder': '../datasets',\n",
    "    'bias': True,\n",
    "    'balanced': True,\n",
    "    'batch_size': 128, \n",
    "    'num_epochs': 20,  # Default: 500\n",
    "    # 'early_stopping': True,\n",
    "    # 'split_ratio': 0.2,  # if early_stopping=True\n",
    "    # 'patience': 5,  # if early_stopping=True\n",
    "}"
   ]
  },
  {
   "cell_type": "markdown",
   "id": "bb5ed1f1-1bb2-4c61-b1ed-d57569436e48",
   "metadata": {},
   "source": [
    "## (4) Specify downstream tasks"
   ]
  },
  {
   "cell_type": "code",
   "execution_count": 6,
   "id": "80e0b877-752c-4bde-b4ac-c51b16496ef6",
   "metadata": {},
   "outputs": [],
   "source": [
    "# All\n",
    "# downstream_tasks = [\n",
    "#     'TOXIC', 'ENGAGE', 'FCLAIM', 'VMWE',\n",
    "#     'OL19-A', 'OL19-B', 'OL19-C',\n",
    "#     'OL18-A', 'OL18-B', \n",
    "#     'ABSD-1', 'ABSD-2', 'ABSD-3',\n",
    "#     'MIO-S', 'MIO-O', 'MIO-I', 'MIO-D', 'MIO-F', 'MIO-P', 'MIO-A',\n",
    "#     'SBCH-L', 'SBCH-S', 'ARCHI', 'LSDC'\n",
    "# ]\n",
    "\n",
    "# Group tasks\n",
    "# downstream_tasks = [\n",
    "#     'ABSD-2', 'MIO-S', 'SBCH-S',  # Sentiment analysis\n",
    "#     'ENGAGE', 'MIO-P',  # engaging/personal\n",
    "#     'FCLAIM', 'MIO-A',  # fact-claim (potential fake news), argumentative, reasoning\n",
    "#     'TOXIC', 'OL19-A', 'OL19-B', 'OL19-C', 'MIO-O', 'MIO-I',  # toxic\n",
    "# ]\n",
    "\n",
    "# Current favorites\n",
    "downstream_tasks = ['FCLAIM', 'VMWE', 'OL19-C', 'ABSD-2', 'MIO-P', 'ARCHI', 'LSDC']"
   ]
  },
  {
   "cell_type": "markdown",
   "id": "b59f4e17-b4a9-4c99-b41d-17a7364d1ead",
   "metadata": {},
   "source": [
    "## (5) Run experiments"
   ]
  },
  {
   "cell_type": "code",
   "execution_count": 7,
   "id": "dbc1d65f-034e-45eb-9d9c-f8db94deb3ff",
   "metadata": {},
   "outputs": [
    {
     "name": "stdout",
     "output_type": "stream",
     "text": [
      "CPU times: user 1min 51s, sys: 37.2 s, total: 2min 28s\n",
      "Wall time: 2min 32s\n"
     ]
    }
   ],
   "source": [
    "%%time\n",
    "results = seeg.evaluate(downstream_tasks, preprocesser, **params)"
   ]
  },
  {
   "cell_type": "code",
   "execution_count": 8,
   "id": "b8d70632-f1fa-4b9f-8f55-fa228c36668b",
   "metadata": {},
   "outputs": [],
   "source": [
    "import json\n",
    "dat = json.dumps(results, indent=2)\n",
    "# print(dat)"
   ]
  },
  {
   "cell_type": "markdown",
   "id": "af7e3482-6c13-43aa-8071-d7037e5b4e91",
   "metadata": {},
   "source": [
    "## (6) Display results"
   ]
  },
  {
   "cell_type": "code",
   "execution_count": 9,
   "id": "ac84999e-8dae-44c7-8442-371d49a0c60d",
   "metadata": {},
   "outputs": [
    {
     "name": "stdout",
     "output_type": "stream",
     "text": [
      "Task | Epochs | N train | N test\n",
      " FCLAIM:    20   3244    944\n",
      "   VMWE:    20   6652   1447\n",
      " OL19-C:    20   1921    930\n",
      " ABSD-2:    20  19432   2555\n",
      "  MIO-P:    20   4668   4668\n",
      "  ARCHI:    20  18809   4743\n",
      "   LSDC:    20  74140   8602\n"
     ]
    }
   ],
   "source": [
    "print(\"Task | Epochs | N train | N test\")\n",
    "for res in results:\n",
    "    print(f\"{res['task']:>7s}: {res['epochs']:5d} {res['train']['num']:6d} {res['test']['num']:6d}\")"
   ]
  },
  {
   "cell_type": "code",
   "execution_count": 13,
   "id": "17a9e87f-9401-441f-9b77-959be2860a43",
   "metadata": {},
   "outputs": [
    {
     "name": "stdout",
     "output_type": "stream",
     "text": [
      "  Task | train | test\n",
      " FCLAIM:  0.637  0.614\n",
      "   VMWE:  0.827  0.822\n",
      " OL19-C:  0.755  0.756\n",
      " ABSD-2:  0.495  0.478\n",
      "  MIO-P:  0.631  0.642\n",
      "  ARCHI:  0.404  0.402\n",
      "   LSDC:  0.603  0.473\n"
     ]
    }
   ],
   "source": [
    "metric = 'acc'  # 'f1', 'f1-balanced', 'acc', 'acc-balanced'\n",
    "print('  Task | train | test')\n",
    "for res in results:\n",
    "    print(f\"{res['task']:>7s}: {res['train'][metric]:6.3f} {res['test'][metric]:6.3f}\")"
   ]
  },
  {
   "cell_type": "code",
   "execution_count": 10,
   "id": "f9fbc769-02c7-4a86-be83-313d7f04a96a",
   "metadata": {},
   "outputs": [
    {
     "name": "stdout",
     "output_type": "stream",
     "text": [
      "  Task | train | test\n",
      " FCLAIM:  0.608  0.583\n",
      "   VMWE:  0.457  0.451\n",
      " OL19-C:  0.566  0.545\n",
      " ABSD-2:  0.407  0.367\n",
      "  MIO-P:  0.579  0.587\n",
      "  ARCHI:  0.402  0.397\n",
      "   LSDC:  0.307  0.266\n"
     ]
    }
   ],
   "source": [
    "metric = 'f1-balanced'  # 'f1', 'f1-balanced', 'acc', 'acc-balanced'\n",
    "print('  Task | train | test')\n",
    "for res in results:\n",
    "    print(f\"{res['task']:>7s}: {res['train'][metric]:6.3f} {res['test'][metric]:6.3f}\")"
   ]
  },
  {
   "cell_type": "code",
   "execution_count": 11,
   "id": "55202679-8bee-48b9-8d4a-6728d8c51706",
   "metadata": {},
   "outputs": [
    {
     "name": "stdout",
     "output_type": "stream",
     "text": [
      "FCLAIM 944\n",
      "{'0': '630', '1': '314'}\n",
      "{'0': '572', '1': '372'}\n",
      "VMWE 1447\n",
      "{'1': '256', '0': '1191'}\n",
      "{'0': '1446', '1': '1'}\n",
      "OL19-C 930\n",
      "{'0': '796', '1': '134'}\n",
      "{'0': '767', '1': '163'}\n",
      "ABSD-2 2555\n",
      "{'1': '1670', '0': '780', '2': '105'}\n",
      "{'0': '882', '1': '1140', '2': '533'}\n",
      "MIO-P 4668\n",
      "{'1': '812', '0': '3856'}\n",
      "{'1': '2144', '0': '2524'}\n",
      "ARCHI 4743\n",
      "{'2': '1177', '3': '1176', '1': '1199', '0': '1191'}\n",
      "{'2': '833', '0': '812', '3': '1441', '1': '1657'}\n",
      "LSDC 8602\n",
      "{'13': '280', '6': '346', '12': '940', '3': '925', '2': '944', '1': '934', '11': '931', '0': '453', '10': '511', '5': '924', '4': '65', '8': '923', '9': '83', '7': '343'}\n",
      "{'8': '1224', '1': '2032', '12': '1021', '11': '1206', '3': '1287', '5': '1192', '2': '640'}\n"
     ]
    }
   ],
   "source": [
    "# class label distributions (inference)\n",
    "for res in results:\n",
    "    print(res['task'], res['test']['num'])\n",
    "    print(res['test']['distr-test'])\n",
    "    print(res['test']['distr-pred'])"
   ]
  },
  {
   "cell_type": "code",
   "execution_count": 12,
   "id": "4e7f8b38-81c0-477c-a63c-eb46b2a08fc2",
   "metadata": {},
   "outputs": [
    {
     "name": "stdout",
     "output_type": "stream",
     "text": [
      "FCLAIM 3244\n",
      "{'0': '2141', '1': '1103'}\n",
      "{'1': '1255', '0': '1989'}\n",
      "VMWE 6652\n",
      "{'1': '1145', '0': '5507'}\n",
      "{'0': '6638', '1': '14'}\n",
      "OL19-C 1921\n",
      "{'0': '1664', '1': '257'}\n",
      "{'0': '1525', '1': '396'}\n",
      "ABSD-2 19432\n",
      "{'2': '1179', '1': '13208', '0': '5045'}\n",
      "{'2': '4369', '0': '6520', '1': '8543'}\n",
      "MIO-P 4668\n",
      "{'0': '3855', '1': '813'}\n",
      "{'0': '2453', '1': '2215'}\n",
      "ARCHI 18809\n",
      "{'1': '4797', '3': '4407', '2': '4802', '0': '4803'}\n",
      "{'1': '7498', '2': '3637', '0': '2922', '3': '4752'}\n",
      "LSDC 74140\n",
      "{'12': '15019', '8': '7829', '5': '13506', '1': '5294', '11': '13227', '3': '11002', '2': '5704', '13': '346', '10': '749', '7': '382', '9': '143', '0': '469', '6': '377', '4': '93'}\n",
      "{'2': '5571', '8': '10442', '1': '7572', '11': '14469', '3': '11413', '5': '12916', '12': '11649', '7': '107', '10': '1'}\n"
     ]
    }
   ],
   "source": [
    "# class label distribution (training)\n",
    "for res in results:\n",
    "    print(res['task'], res['train']['num'])\n",
    "    print(res['train']['distr-train'])\n",
    "    print(res['train']['distr-pred'])"
   ]
  },
  {
   "cell_type": "code",
   "execution_count": null,
   "id": "6f2a7b0b-f295-4b80-a4b5-f2f5c06ef518",
   "metadata": {},
   "outputs": [],
   "source": []
  }
 ],
 "metadata": {
  "kernelspec": {
   "display_name": "Python 3 (ipykernel)",
   "language": "python",
   "name": "python3"
  },
  "language_info": {
   "codemirror_mode": {
    "name": "ipython",
    "version": 3
   },
   "file_extension": ".py",
   "mimetype": "text/x-python",
   "name": "python",
   "nbconvert_exporter": "python",
   "pygments_lexer": "ipython3",
   "version": "3.7.9"
  }
 },
 "nbformat": 4,
 "nbformat_minor": 5
}
