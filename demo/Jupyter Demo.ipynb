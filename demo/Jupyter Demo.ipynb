{
 "cells": [
  {
   "cell_type": "code",
   "execution_count": 1,
   "id": "4743dc34-766e-4e29-9e6f-6bf894f73c68",
   "metadata": {},
   "outputs": [],
   "source": [
    "import sys\n",
    "sys.path.append('..')"
   ]
  },
  {
   "cell_type": "code",
   "execution_count": 14,
   "id": "d97215c2-0daa-4d18-9b95-013791d9c3cb",
   "metadata": {},
   "outputs": [],
   "source": [
    "import sentence_embedding_evaluation_german as seeg\n",
    "import torch\n",
    "from typing import List"
   ]
  },
  {
   "cell_type": "markdown",
   "id": "0fbef9d6-654d-4188-a052-9143061d8cd5",
   "metadata": {},
   "source": [
    "## (1) Instantiate your Embedding model\n",
    "First, you should load your pretrained embedding.\n",
    "\n",
    "Here we will generate a random embedding for demonstration purposes."
   ]
  },
  {
   "cell_type": "code",
   "execution_count": 3,
   "id": "2d3cfc31-31ad-441e-869d-9970f7071a8d",
   "metadata": {},
   "outputs": [],
   "source": [
    "# generate a random embedding\n",
    "emb_dim = 512\n",
    "vocab_sz = 128\n",
    "emb = torch.randn((vocab_sz, emb_dim), requires_grad=False)\n",
    "emb = torch.nn.Embedding.from_pretrained(emb)\n",
    "# assert emb.weight.requires_grad == False"
   ]
  },
  {
   "cell_type": "markdown",
   "id": "8d877f18-a1e3-40ce-bd86-110169b6c8de",
   "metadata": {},
   "source": [
    "## (2) Specify the preprocessing\n",
    "The `preprocessor` function converts a sentences as string into embedding vectors of numbers.\n",
    "\n",
    "Here we will convert the input strings with a nonsensical approach into IDs for the Embedding layer."
   ]
  },
  {
   "cell_type": "code",
   "execution_count": 4,
   "id": "94c4dc56-c9d8-4e06-801e-3ae869852d4d",
   "metadata": {},
   "outputs": [],
   "source": [
    "def preprocesser(batch: List[str], params: dict=None) -> List[List[float]]:\n",
    "    \"\"\" Specify your embedding or pretrained encoder here\n",
    "    Paramters:\n",
    "    ----------\n",
    "    params : dict\n",
    "        The params dictionary\n",
    "    batch : List[str]\n",
    "        A list of sentence as string\n",
    "    Returns:\n",
    "    --------\n",
    "    List[List[float]]\n",
    "        A list of embedding vectors\n",
    "    \"\"\"\n",
    "    features = []\n",
    "    for sent in batch:\n",
    "        try:\n",
    "            ids = torch.tensor([ord(c) % 128 for c in sent])\n",
    "        except:\n",
    "            print(sent)\n",
    "        h = emb(ids)\n",
    "        features.append(h.mean(axis=0))\n",
    "    features = torch.stack(features, dim=0)\n",
    "    return features"
   ]
  },
  {
   "cell_type": "markdown",
   "id": "fd310db5-7909-406a-b125-c37325b87105",
   "metadata": {},
   "source": [
    "## (3) Training settings"
   ]
  },
  {
   "cell_type": "code",
   "execution_count": 5,
   "id": "02deec53-b58b-4d5f-ae37-77d69f2b4071",
   "metadata": {},
   "outputs": [],
   "source": [
    "params = {\n",
    "    'datafolder': '../datasets',\n",
    "    'batch_size': 64, \n",
    "    'num_epochs': 20,\n",
    "    # 'early_stopping': True,\n",
    "    # 'split_ratio': 0.2,  # if early_stopping=True\n",
    "    # 'patience': 5,  # if early_stopping=True\n",
    "}"
   ]
  },
  {
   "cell_type": "markdown",
   "id": "bb5ed1f1-1bb2-4c61-b1ed-d57569436e48",
   "metadata": {},
   "source": [
    "## (4) Specify downstream tasks"
   ]
  },
  {
   "cell_type": "code",
   "execution_count": 6,
   "id": "80e0b877-752c-4bde-b4ac-c51b16496ef6",
   "metadata": {},
   "outputs": [],
   "source": [
    "# All\n",
    "# downstream_tasks = [\n",
    "#     'TOXIC', 'ENGAGE', 'FCLAIM', 'VMWE',\n",
    "#     'OL19-A', 'OL19-B', 'OL19-C',\n",
    "#     'OL18-A', 'OL18-B', \n",
    "#     'ABSD-1', 'ABSD-2', 'ABSD-3',\n",
    "#     'MIO-S', 'MIO-O', 'MIO-I', 'MIO-D', 'MIO-F', 'MIO-P', 'MIO-A',\n",
    "#     'SBCH-L', 'SBCH-S', 'ARCHI', 'LSDC'\n",
    "# ]\n",
    "\n",
    "# Group tasks\n",
    "# downstream_tasks = [\n",
    "#     'ABSD-2', 'MIO-S', 'SBCH-S',  # Sentiment analysis\n",
    "#     'ENGAGE', 'MIO-P',  # engaging/personal\n",
    "#     'FCLAIM', 'MIO-A',  # fact-claim (potential fake news), argumentative, reasoning\n",
    "#     'TOXIC', 'OL19-A', 'OL19-B', 'OL19-C', 'MIO-O', 'MIO-I',  # toxic\n",
    "# ]\n",
    "\n",
    "# Current favorites\n",
    "downstream_tasks = ['FCLAIM', 'VMWE', 'OL19-C', 'ABSD-2', 'MIO-P', 'ARCHI', 'LSDC']"
   ]
  },
  {
   "cell_type": "markdown",
   "id": "b59f4e17-b4a9-4c99-b41d-17a7364d1ead",
   "metadata": {},
   "source": [
    "## (5) Run experiments"
   ]
  },
  {
   "cell_type": "code",
   "execution_count": 7,
   "id": "dbc1d65f-034e-45eb-9d9c-f8db94deb3ff",
   "metadata": {},
   "outputs": [
    {
     "name": "stdout",
     "output_type": "stream",
     "text": [
      "nan\n",
      "CPU times: user 1min 34s, sys: 9.25 s, total: 1min 43s\n",
      "Wall time: 1min 49s\n"
     ]
    }
   ],
   "source": [
    "%%time\n",
    "results = seeg.evaluate(downstream_tasks, preprocesser, **params)"
   ]
  },
  {
   "cell_type": "markdown",
   "id": "af7e3482-6c13-43aa-8071-d7037e5b4e91",
   "metadata": {},
   "source": [
    "## (6) Display results"
   ]
  },
  {
   "cell_type": "code",
   "execution_count": 8,
   "id": "ac84999e-8dae-44c7-8442-371d49a0c60d",
   "metadata": {},
   "outputs": [
    {
     "data": {
      "text/plain": [
       "[('FCLAIM', 20, 3244, 944),\n",
       " ('VMWE', 20, 6652, 1447),\n",
       " ('OL19-C', 20, 1921, 930),\n",
       " ('ABSD-2', 20, 19432, 2555),\n",
       " ('MIO-P', 20, 4668, 4668),\n",
       " ('ARCHI', 20, 18809, 4743),\n",
       " ('LSDC', 20, 74140, 8602)]"
      ]
     },
     "execution_count": 8,
     "metadata": {},
     "output_type": "execute_result"
    }
   ],
   "source": [
    "[(res['task'], res['epochs'], res['train']['num'], res['test']['num']) for res in results]"
   ]
  },
  {
   "cell_type": "code",
   "execution_count": 9,
   "id": "f9fbc769-02c7-4a86-be83-313d7f04a96a",
   "metadata": {},
   "outputs": [
    {
     "data": {
      "text/plain": [
       "[('FCLAIM', 0.6670776818742293),\n",
       " ('VMWE', 0.8278713168971737),\n",
       " ('OL19-C', 0.8662155127537741),\n",
       " ('ABSD-2', 0.6797035817208728),\n",
       " ('MIO-P', 0.8258354755784063),\n",
       " ('ARCHI', 0.40501887394332503),\n",
       " ('LSDC', 0.5186673860264365)]"
      ]
     },
     "execution_count": 9,
     "metadata": {},
     "output_type": "execute_result"
    }
   ],
   "source": [
    "metric = 'f1'\n",
    "mode = 'train'\n",
    "\n",
    "[(res['task'], res[mode][metric]) for res in results]"
   ]
  },
  {
   "cell_type": "code",
   "execution_count": 10,
   "id": "b491b97a-5f1b-474d-bcea-f1f1b4ed0b7d",
   "metadata": {},
   "outputs": [
    {
     "data": {
      "text/plain": [
       "[('FCLAIM', 0.6705508474576272),\n",
       " ('VMWE', 0.8230822391154112),\n",
       " ('OL19-C', 0.8559139784946237),\n",
       " ('ABSD-2', 0.6536203522504892),\n",
       " ('MIO-P', 0.8260497000856898),\n",
       " ('ARCHI', 0.39869281045751637),\n",
       " ('LSDC', 0.3171355498721228)]"
      ]
     },
     "execution_count": 10,
     "metadata": {},
     "output_type": "execute_result"
    }
   ],
   "source": [
    "metric = 'f1'\n",
    "mode = 'test'\n",
    "\n",
    "[(res['task'], res[mode][metric]) for res in results]"
   ]
  },
  {
   "cell_type": "code",
   "execution_count": 11,
   "id": "19e97b37-adac-44a1-af0e-f4b9d10d8350",
   "metadata": {},
   "outputs": [
    {
     "data": {
      "text/plain": [
       "[('FCLAIM', 0.4192148290289716),\n",
       " ('VMWE', 0.4514783927217589),\n",
       " ('OL19-C', 0.4611819235225956),\n",
       " ('ABSD-2', 0.2635108481262327),\n",
       " ('MIO-P', 0.4523697794462694),\n",
       " ('ARCHI', 0.3952927574143255),\n",
       " ('LSDC', 0.1336177186212118)]"
      ]
     },
     "execution_count": 11,
     "metadata": {},
     "output_type": "execute_result"
    }
   ],
   "source": [
    "metric = 'f1-balanced'\n",
    "mode = 'test'\n",
    "\n",
    "[(res['task'], res[mode][metric]) for res in results]"
   ]
  },
  {
   "cell_type": "code",
   "execution_count": 12,
   "id": "4e7f8b38-81c0-477c-a63c-eb46b2a08fc2",
   "metadata": {},
   "outputs": [
    {
     "name": "stdout",
     "output_type": "stream",
     "text": [
      "FCLAIM 3244\n",
      "{0: 2141, 1: 1103}\n",
      "{0: 3211, 1: 33}\n",
      "VMWE 6652\n",
      "{1: 1145, 0: 5507}\n",
      "{0: 6652}\n",
      "OL19-C 1921\n",
      "{0: 1664, 1: 257}\n",
      "{0: 1921}\n",
      "ABSD-2 19432\n",
      "{2: 1179, 1: 13208, 0: 5045}\n",
      "{1: 19432}\n",
      "MIO-P 4668\n",
      "{0: 3855, 1: 813}\n",
      "{0: 4668}\n",
      "ARCHI 18809\n",
      "{1: 4797, 3: 4407, 2: 4802, 0: 4803}\n",
      "{1: 7579, 2: 3823, 0: 3163, 3: 4244}\n",
      "LSDC 74140\n",
      "{12: 15019, 8: 7829, 5: 13506, 1: 5294, 11: 13227, 3: 11002, 2: 5704, 13: 346, 10: 749, 7: 382, 9: 143, 0: 469, 6: 377, 4: 93}\n",
      "{5: 16566, 12: 22331, 11: 18113, 3: 16026, 2: 1076, 7: 27, 8: 1}\n"
     ]
    }
   ],
   "source": [
    "# class label distribution (training)\n",
    "for res in results:\n",
    "    print(res['task'], res['train']['num'])\n",
    "    print(res['train']['distr-train'])\n",
    "    print(res['train']['distr-pred'])"
   ]
  },
  {
   "cell_type": "code",
   "execution_count": 13,
   "id": "55202679-8bee-48b9-8d4a-6728d8c51706",
   "metadata": {},
   "outputs": [
    {
     "name": "stdout",
     "output_type": "stream",
     "text": [
      "FCLAIM 944\n",
      "{0: 630, 1: 314}\n",
      "{0: 935, 1: 9}\n",
      "VMWE 1447\n",
      "{1: 256, 0: 1191}\n",
      "{0: 1447}\n",
      "OL19-C 930\n",
      "{0: 796, 1: 134}\n",
      "{0: 930}\n",
      "ABSD-2 2555\n",
      "{1: 1670, 0: 780, 2: 105}\n",
      "{1: 2555}\n",
      "MIO-P 4668\n",
      "{1: 812, 0: 3856}\n",
      "{0: 4668}\n",
      "ARCHI 4743\n",
      "{2: 1177, 3: 1176, 1: 1199, 0: 1191}\n",
      "{2: 868, 0: 907, 3: 1270, 1: 1698}\n",
      "LSDC 8602\n",
      "{13: 280, 6: 346, 12: 940, 3: 925, 2: 944, 1: 934, 11: 931, 0: 453, 10: 511, 5: 924, 4: 65, 8: 923, 9: 83, 7: 343}\n",
      "{5: 1606, 3: 2279, 12: 2569, 11: 2064, 2: 84}\n"
     ]
    }
   ],
   "source": [
    "# class label distributions (inference)\n",
    "for res in results:\n",
    "    print(res['task'], res['test']['num'])\n",
    "    print(res['test']['distr-test'])\n",
    "    print(res['test']['distr-pred'])"
   ]
  },
  {
   "cell_type": "code",
   "execution_count": null,
   "id": "4aa2db1d-d28d-4cf9-bdbc-5218a91da243",
   "metadata": {},
   "outputs": [],
   "source": []
  }
 ],
 "metadata": {
  "kernelspec": {
   "display_name": "Python 3 (ipykernel)",
   "language": "python",
   "name": "python3"
  },
  "language_info": {
   "codemirror_mode": {
    "name": "ipython",
    "version": 3
   },
   "file_extension": ".py",
   "mimetype": "text/x-python",
   "name": "python",
   "nbconvert_exporter": "python",
   "pygments_lexer": "ipython3",
   "version": "3.7.9"
  }
 },
 "nbformat": 4,
 "nbformat_minor": 5
}
