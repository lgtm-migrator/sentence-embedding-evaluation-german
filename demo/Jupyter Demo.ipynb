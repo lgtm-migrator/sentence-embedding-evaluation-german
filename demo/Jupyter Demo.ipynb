{
 "cells": [
  {
   "cell_type": "code",
   "execution_count": 1,
   "id": "4743dc34-766e-4e29-9e6f-6bf894f73c68",
   "metadata": {},
   "outputs": [],
   "source": [
    "import sys\n",
    "sys.path.append('..')"
   ]
  },
  {
   "cell_type": "code",
   "execution_count": 2,
   "id": "d97215c2-0daa-4d18-9b95-013791d9c3cb",
   "metadata": {},
   "outputs": [
    {
     "name": "stderr",
     "output_type": "stream",
     "text": [
      "/Users/uh/projects/paper-293/sentence-embedding-evaluation-german/.venv/lib/python3.7/site-packages/tqdm/auto.py:22: TqdmWarning: IProgress not found. Please update jupyter and ipywidgets. See https://ipywidgets.readthedocs.io/en/stable/user_install.html\n",
      "  from .autonotebook import tqdm as notebook_tqdm\n"
     ]
    }
   ],
   "source": [
    "import sentence_embedding_evaluation_german as seeg\n",
    "import torch\n",
    "from typing import List"
   ]
  },
  {
   "cell_type": "markdown",
   "id": "0fbef9d6-654d-4188-a052-9143061d8cd5",
   "metadata": {},
   "source": [
    "## (1) Instantiate your Embedding model\n",
    "First, you should load your pretrained embedding.\n",
    "\n",
    "Here we will generate a random embedding for demonstration purposes."
   ]
  },
  {
   "cell_type": "code",
   "execution_count": 3,
   "id": "2d3cfc31-31ad-441e-869d-9970f7071a8d",
   "metadata": {},
   "outputs": [],
   "source": [
    "# generate a random embedding\n",
    "emb_dim = 512\n",
    "vocab_sz = 128\n",
    "emb = torch.randn((vocab_sz, emb_dim), requires_grad=False)\n",
    "emb = torch.nn.Embedding.from_pretrained(emb)\n",
    "# assert emb.weight.requires_grad == False"
   ]
  },
  {
   "cell_type": "markdown",
   "id": "8d877f18-a1e3-40ce-bd86-110169b6c8de",
   "metadata": {},
   "source": [
    "## (2) Specify the preprocessing\n",
    "The `preprocessor` function converts a sentences as string into embedding vectors of numbers.\n",
    "\n",
    "Here we will convert the input strings with a nonsensical approach into IDs for the Embedding layer."
   ]
  },
  {
   "cell_type": "code",
   "execution_count": 4,
   "id": "94c4dc56-c9d8-4e06-801e-3ae869852d4d",
   "metadata": {},
   "outputs": [],
   "source": [
    "def preprocesser(batch: List[str], params: dict=None) -> List[List[float]]:\n",
    "    \"\"\" Specify your embedding or pretrained encoder here\n",
    "    Paramters:\n",
    "    ----------\n",
    "    params : dict\n",
    "        The params dictionary\n",
    "    batch : List[str]\n",
    "        A list of sentence as string\n",
    "    Returns:\n",
    "    --------\n",
    "    List[List[float]]\n",
    "        A list of embedding vectors\n",
    "    \"\"\"\n",
    "    features = []\n",
    "    for sent in batch:\n",
    "        try:\n",
    "            ids = torch.tensor([ord(c) % 128 for c in sent])\n",
    "        except:\n",
    "            print(sent)\n",
    "        h = emb(ids)\n",
    "        features.append(h.mean(axis=0))\n",
    "    features = torch.stack(features, dim=0)\n",
    "    return features"
   ]
  },
  {
   "cell_type": "markdown",
   "id": "fd310db5-7909-406a-b125-c37325b87105",
   "metadata": {},
   "source": [
    "## (3) Training settings"
   ]
  },
  {
   "cell_type": "code",
   "execution_count": 5,
   "id": "02deec53-b58b-4d5f-ae37-77d69f2b4071",
   "metadata": {},
   "outputs": [],
   "source": [
    "params = {\n",
    "    'datafolder': '../datasets',\n",
    "    'batch_size': 64, \n",
    "    'num_epochs': 20,\n",
    "    # 'early_stopping': True,\n",
    "    # 'split_ratio': 0.2,  # if early_stopping=True\n",
    "    # 'patience': 5,  # if early_stopping=True\n",
    "}"
   ]
  },
  {
   "cell_type": "markdown",
   "id": "bb5ed1f1-1bb2-4c61-b1ed-d57569436e48",
   "metadata": {},
   "source": [
    "## (4) Specify downstream tasks"
   ]
  },
  {
   "cell_type": "code",
   "execution_count": 6,
   "id": "80e0b877-752c-4bde-b4ac-c51b16496ef6",
   "metadata": {},
   "outputs": [],
   "source": [
    "downstream_tasks = [\n",
    "    'TOXIC', 'ENGAGE', 'FCLAIM', 'VMWE',\n",
    "    'OL19-A', 'OL19-B', 'OL19-C',\n",
    "    'OL18-A', 'OL18-B', \n",
    "    'ABSD-1', 'ABSD-2', 'ABSD-3',\n",
    "    'MIO-S', 'MIO-O', 'MIO-I', 'MIO-D', 'MIO-F', 'MIO-P', 'MIO-A'\n",
    "]\n",
    "\n",
    "# downstream_tasks = [\n",
    "#     'TOXIC', 'ENGAGE', 'FCLAIM', 'VMWE',\n",
    "#     'OL19-C', 'ABSD-2', 'MIO-S']"
   ]
  },
  {
   "cell_type": "markdown",
   "id": "b59f4e17-b4a9-4c99-b41d-17a7364d1ead",
   "metadata": {},
   "source": [
    "## (5) Run experiments"
   ]
  },
  {
   "cell_type": "code",
   "execution_count": 7,
   "id": "dbc1d65f-034e-45eb-9d9c-f8db94deb3ff",
   "metadata": {},
   "outputs": [
    {
     "name": "stdout",
     "output_type": "stream",
     "text": [
      "CPU times: user 1min 40s, sys: 12.1 s, total: 1min 52s\n",
      "Wall time: 1min 52s\n"
     ]
    }
   ],
   "source": [
    "%%time\n",
    "results = seeg.evaluate(downstream_tasks, preprocesser, **params)"
   ]
  },
  {
   "cell_type": "markdown",
   "id": "af7e3482-6c13-43aa-8071-d7037e5b4e91",
   "metadata": {},
   "source": [
    "## (6) Display results"
   ]
  },
  {
   "cell_type": "code",
   "execution_count": 8,
   "id": "ac84999e-8dae-44c7-8442-371d49a0c60d",
   "metadata": {},
   "outputs": [
    {
     "data": {
      "text/plain": [
       "[('TOXIC', 20, 3244, 944),\n",
       " ('ENGAGE', 20, 3244, 944),\n",
       " ('FCLAIM', 20, 3244, 944),\n",
       " ('VMWE', 20, 6651, 1446),\n",
       " ('OL19-A', 20, 3979, 3030),\n",
       " ('OL19-B', 20, 3979, 3030),\n",
       " ('OL19-C', 20, 1920, 929),\n",
       " ('OL18-A', 20, 5008, 3397),\n",
       " ('OL18-B', 20, 5008, 3397),\n",
       " ('ABSD-1', 20, 19431, 2554),\n",
       " ('ABSD-2', 20, 19431, 2554),\n",
       " ('ABSD-3', 20, 19431, 2554),\n",
       " ('MIO-S', 20, 1799, 1800),\n",
       " ('MIO-O', 20, 1799, 1800),\n",
       " ('MIO-I', 20, 1799, 1800),\n",
       " ('MIO-D', 20, 1799, 1800),\n",
       " ('MIO-F', 20, 3019, 3019),\n",
       " ('MIO-P', 20, 4668, 4668),\n",
       " ('MIO-A', 20, 1799, 1800)]"
      ]
     },
     "execution_count": 8,
     "metadata": {},
     "output_type": "execute_result"
    }
   ],
   "source": [
    "[(res['task'], res['epochs'], res['train']['num'], res['test']['num']) for res in results]"
   ]
  },
  {
   "cell_type": "code",
   "execution_count": 9,
   "id": "f9fbc769-02c7-4a86-be83-313d7f04a96a",
   "metadata": {},
   "outputs": [
    {
     "data": {
      "text/plain": [
       "[('TOXIC', 0.6676942046855734),\n",
       " ('ENGAGE', 0.7392108508014796),\n",
       " ('FCLAIM', 0.6664611590628853),\n",
       " ('VMWE', 0.8279957901067508),\n",
       " ('OL19-A', 0.6891178688112591),\n",
       " ('OL19-B', 0.678059814023624),\n",
       " ('OL19-C', 0.8661458333333333),\n",
       " ('OL18-A', 0.6755191693290735),\n",
       " ('OL18-B', 0.6647364217252396),\n",
       " ('ABSD-1', 0.8337193144974525),\n",
       " ('ABSD-2', 0.6797385620915033),\n",
       " ('ABSD-3', 0.575883896865833),\n",
       " ('MIO-S', 0.5708727070594775),\n",
       " ('MIO-O', 0.8387993329627571),\n",
       " ('MIO-I', 0.9155086158977209),\n",
       " ('MIO-D', 0.9216231239577543),\n",
       " ('MIO-F', 0.7843656840013249),\n",
       " ('MIO-P', 0.8258354755784063),\n",
       " ('MIO-A', 0.7159533073929961)]"
      ]
     },
     "execution_count": 9,
     "metadata": {},
     "output_type": "execute_result"
    }
   ],
   "source": [
    "metric = 'f1'\n",
    "mode = 'train'\n",
    "\n",
    "[(res['task'], res[mode][metric]) for res in results]"
   ]
  },
  {
   "cell_type": "code",
   "execution_count": 10,
   "id": "b491b97a-5f1b-474d-bcea-f1f1b4ed0b7d",
   "metadata": {},
   "outputs": [
    {
     "data": {
      "text/plain": [
       "[('TOXIC', 0.628177966101695),\n",
       " ('ENGAGE', 0.7351694915254238),\n",
       " ('FCLAIM', 0.6694915254237288),\n",
       " ('VMWE', 0.8236514522821576),\n",
       " ('OL19-A', 0.6778877887788779),\n",
       " ('OL19-B', 0.6801980198019802),\n",
       " ('OL19-C', 0.8557588805166847),\n",
       " ('OL18-A', 0.6655872828966736),\n",
       " ('OL18-B', 0.6638210185457757),\n",
       " ('ABSD-1', 0.8198903680501175),\n",
       " ('ABSD-2', 0.6534847298355521),\n",
       " ('ABSD-3', 0.52858261550509),\n",
       " ('MIO-S', 0.5372222222222223),\n",
       " ('MIO-O', 0.8383333333333334),\n",
       " ('MIO-I', 0.9155555555555556),\n",
       " ('MIO-D', 0.9211111111111111),\n",
       " ('MIO-F', 0.7843656840013249),\n",
       " ('MIO-P', 0.8258354755784063),\n",
       " ('MIO-A', 0.7161111111111111)]"
      ]
     },
     "execution_count": 10,
     "metadata": {},
     "output_type": "execute_result"
    }
   ],
   "source": [
    "metric = 'f1'\n",
    "mode = 'test'\n",
    "\n",
    "[(res['task'], res[mode][metric]) for res in results]"
   ]
  },
  {
   "cell_type": "code",
   "execution_count": 11,
   "id": "19e97b37-adac-44a1-af0e-f4b9d10d8350",
   "metadata": {},
   "outputs": [
    {
     "data": {
      "text/plain": [
       "[('TOXIC', 0.39115239381494443),\n",
       " ('ENGAGE', 0.43881675940457504),\n",
       " ('FCLAIM', 0.41301020408163264),\n",
       " ('VMWE', 0.45164960182025027),\n",
       " ('OL19-A', 0.40597782420054634),\n",
       " ('OL19-B', 0.2024160282852092),\n",
       " ('OL19-C', 0.4611368909512761),\n",
       " ('OL18-A', 0.4538943821903819),\n",
       " ('OL18-B', 0.20669020010097205),\n",
       " ('ABSD-1', 0.45051635111876076),\n",
       " ('ABSD-2', 0.26347778040887204),\n",
       " ('ABSD-3', 0.03639991371872303),\n",
       " ('MIO-S', 0.3486718568685781),\n",
       " ('MIO-O', 0.4560290117860381),\n",
       " ('MIO-I', 0.47795823665893267),\n",
       " ('MIO-D', 0.4794679005205321),\n",
       " ('MIO-F', 0.4395767588639317),\n",
       " ('MIO-P', 0.45230552622316084),\n",
       " ('MIO-A', 0.41728714794431854)]"
      ]
     },
     "execution_count": 11,
     "metadata": {},
     "output_type": "execute_result"
    }
   ],
   "source": [
    "metric = 'f1-balanced'\n",
    "mode = 'test'\n",
    "\n",
    "[(res['task'], res[mode][metric]) for res in results]"
   ]
  },
  {
   "cell_type": "code",
   "execution_count": 13,
   "id": "24de8acf-ef9c-46df-b80d-91e6a65941f1",
   "metadata": {},
   "outputs": [
    {
     "data": {
      "text/plain": [
       "{'a': 2, 'b': 1}"
      ]
     },
     "execution_count": 13,
     "metadata": {},
     "output_type": "execute_result"
    }
   ],
   "source": [
    "from collections import Counter\n",
    "dict(Counter(['a', 'b', 'a']))\n"
   ]
  },
  {
   "cell_type": "code",
   "execution_count": 15,
   "id": "e4245156-7132-439f-83e0-d80b7591b1d5",
   "metadata": {},
   "outputs": [
    {
     "data": {
      "text/plain": [
       "{1: 3, 2: 1, 0: 2}"
      ]
     },
     "execution_count": 15,
     "metadata": {},
     "output_type": "execute_result"
    }
   ],
   "source": [
    "import torch\n",
    "num = torch.tensor([1,2,0,0,1,1])\n",
    "dict(Counter(num.detach().numpy()))"
   ]
  },
  {
   "cell_type": "code",
   "execution_count": null,
   "id": "4e7f8b38-81c0-477c-a63c-eb46b2a08fc2",
   "metadata": {},
   "outputs": [],
   "source": []
  }
 ],
 "metadata": {
  "kernelspec": {
   "display_name": "Python 3 (ipykernel)",
   "language": "python",
   "name": "python3"
  },
  "language_info": {
   "codemirror_mode": {
    "name": "ipython",
    "version": 3
   },
   "file_extension": ".py",
   "mimetype": "text/x-python",
   "name": "python",
   "nbconvert_exporter": "python",
   "pygments_lexer": "ipython3",
   "version": "3.7.9"
  }
 },
 "nbformat": 4,
 "nbformat_minor": 5
}
