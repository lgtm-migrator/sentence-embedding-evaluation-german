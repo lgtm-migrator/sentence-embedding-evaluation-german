{
 "cells": [
  {
   "cell_type": "code",
   "execution_count": 1,
   "id": "4743dc34-766e-4e29-9e6f-6bf894f73c68",
   "metadata": {},
   "outputs": [],
   "source": [
    "import sys\n",
    "sys.path.append('..')"
   ]
  },
  {
   "cell_type": "code",
   "execution_count": 2,
   "id": "d97215c2-0daa-4d18-9b95-013791d9c3cb",
   "metadata": {},
   "outputs": [],
   "source": [
    "import sentence_embedding_evaluation_german as seeg\n",
    "import torch\n",
    "from typing import List"
   ]
  },
  {
   "cell_type": "markdown",
   "id": "0fbef9d6-654d-4188-a052-9143061d8cd5",
   "metadata": {},
   "source": [
    "## (1) Instantiate your Embedding model\n",
    "First, you should load your pretrained embedding.\n",
    "\n",
    "Here we will generate a random embedding for demonstration purposes."
   ]
  },
  {
   "cell_type": "code",
   "execution_count": 3,
   "id": "2d3cfc31-31ad-441e-869d-9970f7071a8d",
   "metadata": {},
   "outputs": [],
   "source": [
    "# generate a random embedding\n",
    "emb_dim = 512\n",
    "vocab_sz = 128\n",
    "emb = torch.randn((vocab_sz, emb_dim), requires_grad=False)\n",
    "emb = torch.nn.Embedding.from_pretrained(emb)\n",
    "# assert emb.weight.requires_grad == False"
   ]
  },
  {
   "cell_type": "markdown",
   "id": "8d877f18-a1e3-40ce-bd86-110169b6c8de",
   "metadata": {},
   "source": [
    "## (2) Specify the preprocessing\n",
    "The `preprocessor` function converts a sentences as string into embedding vectors of numbers.\n",
    "\n",
    "Here we will convert the input strings with a nonsensical approach into IDs for the Embedding layer."
   ]
  },
  {
   "cell_type": "code",
   "execution_count": 4,
   "id": "94c4dc56-c9d8-4e06-801e-3ae869852d4d",
   "metadata": {},
   "outputs": [],
   "source": [
    "def preprocesser(batch: List[str], params: dict=None) -> List[List[float]]:\n",
    "    \"\"\" Specify your embedding or pretrained encoder here\n",
    "    Paramters:\n",
    "    ----------\n",
    "    params : dict\n",
    "        The params dictionary\n",
    "    batch : List[str]\n",
    "        A list of sentence as string\n",
    "    Returns:\n",
    "    --------\n",
    "    List[List[float]]\n",
    "        A list of embedding vectors\n",
    "    \"\"\"\n",
    "    features = []\n",
    "    for sent in batch:\n",
    "        try:\n",
    "            ids = torch.tensor([ord(c) % 128 for c in sent])\n",
    "        except:\n",
    "            print(sent)\n",
    "        h = emb(ids)\n",
    "        features.append(h.mean(axis=0))\n",
    "    features = torch.stack(features, dim=0)\n",
    "    return features"
   ]
  },
  {
   "cell_type": "markdown",
   "id": "fd310db5-7909-406a-b125-c37325b87105",
   "metadata": {},
   "source": [
    "## (3) Training settings"
   ]
  },
  {
   "cell_type": "code",
   "execution_count": 5,
   "id": "02deec53-b58b-4d5f-ae37-77d69f2b4071",
   "metadata": {},
   "outputs": [],
   "source": [
    "params = {\n",
    "    'datafolder': '../datasets',\n",
    "    'bias': True,\n",
    "    'balanced': True,\n",
    "    'batch_size': 128, \n",
    "    'num_epochs': 10,  # Default: 500\n",
    "    # 'early_stopping': True,\n",
    "    # 'split_ratio': 0.2,  # if early_stopping=True\n",
    "    # 'patience': 5,  # if early_stopping=True\n",
    "}"
   ]
  },
  {
   "cell_type": "markdown",
   "id": "bb5ed1f1-1bb2-4c61-b1ed-d57569436e48",
   "metadata": {},
   "source": [
    "## (4) Specify downstream tasks"
   ]
  },
  {
   "cell_type": "code",
   "execution_count": 6,
   "id": "80e0b877-752c-4bde-b4ac-c51b16496ef6",
   "metadata": {},
   "outputs": [],
   "source": [
    "# All\n",
    "# downstream_tasks = [\n",
    "#     'TOXIC', 'ENGAGE', 'FCLAIM', 'VMWE',\n",
    "#     'OL19-A', 'OL19-B', 'OL19-C',\n",
    "#     'OL18-A', 'OL18-B', \n",
    "#     'ABSD-1', 'ABSD-2', 'ABSD-3',\n",
    "#     'MIO-S', 'MIO-O', 'MIO-I', 'MIO-D', 'MIO-F', 'MIO-P', 'MIO-A',\n",
    "#     'SBCH-L', 'SBCH-S', 'ARCHI', 'LSDC'\n",
    "# ]\n",
    "\n",
    "# Group tasks\n",
    "# downstream_tasks = [\n",
    "#     'ABSD-2', 'MIO-S', 'SBCH-S',  # Sentiment analysis\n",
    "#     'ENGAGE', 'MIO-P',  # engaging/personal\n",
    "#     'FCLAIM', 'MIO-A',  # fact-claim (potential fake news), argumentative, reasoning\n",
    "#     'TOXIC', 'OL19-A', 'OL19-B', 'OL19-C', 'MIO-O', 'MIO-I',  # toxic\n",
    "# ]\n",
    "\n",
    "# Current favorites\n",
    "downstream_tasks = ['FCLAIM', 'VMWE', 'OL19-C', 'ABSD-2', 'MIO-P', 'ARCHI', 'LSDC']"
   ]
  },
  {
   "cell_type": "markdown",
   "id": "b59f4e17-b4a9-4c99-b41d-17a7364d1ead",
   "metadata": {},
   "source": [
    "## (5) Run experiments"
   ]
  },
  {
   "cell_type": "code",
   "execution_count": 7,
   "id": "dbc1d65f-034e-45eb-9d9c-f8db94deb3ff",
   "metadata": {},
   "outputs": [
    {
     "name": "stdout",
     "output_type": "stream",
     "text": [
      "Dataset loaded: FCLAIM\n",
      "epoch 1 | loss: 0.6967413677619054\n",
      "epoch 2 | loss: 0.6878486275672913\n",
      "epoch 3 | loss: 0.6872380467561575\n",
      "epoch 4 | loss: 0.6854658172680781\n",
      "epoch 5 | loss: 0.6833217831758353\n",
      "epoch 6 | loss: 0.681429576415282\n",
      "epoch 7 | loss: 0.6797747520300058\n",
      "epoch 8 | loss: 0.6782860297423142\n",
      "epoch 9 | loss: 0.6769298039949857\n",
      "epoch 10 | loss: 0.6756867789305173\n",
      "Dataset loaded: VMWE\n",
      "epoch 1 | loss: 0.6948041491783582\n",
      "epoch 2 | loss: 0.6866596215046369\n",
      "epoch 3 | loss: 0.6880441628969632\n",
      "epoch 4 | loss: 0.6878308264108804\n",
      "epoch 5 | loss: 0.6872189847322611\n",
      "epoch 6 | loss: 0.6865111199709085\n",
      "epoch 7 | loss: 0.6857815465101829\n",
      "epoch 8 | loss: 0.6850517953817661\n",
      "epoch 9 | loss: 0.6843297607623614\n",
      "epoch 10 | loss: 0.6836191461636469\n",
      "Dataset loaded: OL19-C\n",
      "epoch 1 | loss: 0.7060581818223\n",
      "epoch 2 | loss: 0.6990385875105858\n",
      "epoch 3 | loss: 0.6970023177564144\n",
      "epoch 4 | loss: 0.69573974609375\n",
      "epoch 5 | loss: 0.694473635405302\n",
      "epoch 6 | loss: 0.6931687854230404\n",
      "epoch 7 | loss: 0.6918717995285988\n",
      "epoch 8 | loss: 0.6906058564782143\n",
      "epoch 9 | loss: 0.6893773563206196\n",
      "epoch 10 | loss: 0.6881862655282021\n",
      "Dataset loaded: ABSD-2\n",
      "epoch 1 | loss: 1.0965751221305446\n",
      "epoch 2 | loss: 1.0895904004573822\n",
      "epoch 3 | loss: 1.0836171523520821\n",
      "epoch 4 | loss: 1.0784388592368679\n",
      "epoch 5 | loss: 1.0739891921219074\n",
      "epoch 6 | loss: 1.070158896477599\n",
      "epoch 7 | loss: 1.0668395906686783\n",
      "epoch 8 | loss: 1.06393890004409\n",
      "epoch 9 | loss: 1.0613821395917942\n",
      "epoch 10 | loss: 1.0591098815202713\n",
      "Dataset loaded: MIO-P\n",
      "epoch 1 | loss: 0.6927292910782067\n",
      "epoch 2 | loss: 0.6846137675079139\n",
      "epoch 3 | loss: 0.6777794022817869\n",
      "epoch 4 | loss: 0.6720617993457897\n",
      "epoch 5 | loss: 0.6671790754472887\n",
      "epoch 6 | loss: 0.6629524005425943\n",
      "epoch 7 | loss: 0.6592465381364565\n",
      "epoch 8 | loss: 0.6559603117607735\n",
      "epoch 9 | loss: 0.6530176143388491\n",
      "epoch 10 | loss: 0.6503602056889921\n",
      "Dataset loaded: ARCHI\n",
      "epoch 1 | loss: 1.3738918272005458\n",
      "epoch 2 | loss: 1.3521890899762004\n",
      "epoch 3 | loss: 1.3392690371493905\n",
      "epoch 4 | loss: 1.3313952278928691\n",
      "epoch 5 | loss: 1.3259391663025837\n",
      "epoch 6 | loss: 1.3219311042707793\n",
      "epoch 7 | loss: 1.3188564866578498\n",
      "epoch 8 | loss: 1.316417527036602\n",
      "epoch 9 | loss: 1.3144294574958126\n",
      "epoch 10 | loss: 1.312771497129583\n",
      "Dataset loaded: LSDC\n",
      "epoch 1 | loss: 2.601522481441498\n",
      "epoch 2 | loss: 2.5422553868129336\n",
      "epoch 3 | loss: 2.51233811378479\n",
      "epoch 4 | loss: 2.495127631055898\n",
      "epoch 5 | loss: 2.4836249598141373\n",
      "epoch 6 | loss: 2.474776161128077\n",
      "epoch 7 | loss: 2.4610885784543792\n",
      "epoch 8 | loss: 2.4516667242707877\n",
      "epoch 9 | loss: 2.4452585068242305\n",
      "epoch 10 | loss: 2.440170746014036\n",
      "CPU times: user 1min 12s, sys: 10.2 s, total: 1min 22s\n",
      "Wall time: 50.7 s\n"
     ]
    }
   ],
   "source": [
    "%%time\n",
    "results = seeg.evaluate(downstream_tasks, preprocesser, verbose=1, **params)"
   ]
  },
  {
   "cell_type": "code",
   "execution_count": 8,
   "id": "b8d70632-f1fa-4b9f-8f55-fa228c36668b",
   "metadata": {},
   "outputs": [],
   "source": [
    "import json\n",
    "dat = json.dumps(results, indent=2)\n",
    "# print(dat)"
   ]
  },
  {
   "cell_type": "markdown",
   "id": "af7e3482-6c13-43aa-8071-d7037e5b4e91",
   "metadata": {},
   "source": [
    "## (6) Display results"
   ]
  },
  {
   "cell_type": "code",
   "execution_count": 9,
   "id": "ac84999e-8dae-44c7-8442-371d49a0c60d",
   "metadata": {},
   "outputs": [
    {
     "name": "stdout",
     "output_type": "stream",
     "text": [
      "Task | Epochs | N train | N test\n",
      " FCLAIM:    10   3244    944\n",
      "   VMWE:    10   6652   1447\n",
      " OL19-C:    10   1921    930\n",
      " ABSD-2:    10  19432   2555\n",
      "  MIO-P:    10   4668   4668\n",
      "  ARCHI:    10  18809   4743\n",
      "   LSDC:    10  74140   8602\n"
     ]
    }
   ],
   "source": [
    "print(\"Task | Epochs | N train | N test\")\n",
    "for res in results:\n",
    "    print(f\"{res['task']:>7s}: {res['epochs']:5d} {res['train']['num']:6d} {res['test']['num']:6d}\")"
   ]
  },
  {
   "cell_type": "code",
   "execution_count": 10,
   "id": "17a9e87f-9401-441f-9b77-959be2860a43",
   "metadata": {},
   "outputs": [
    {
     "name": "stdout",
     "output_type": "stream",
     "text": [
      "  Task | train | test\n",
      " FCLAIM:  0.602  0.575\n",
      "   VMWE:  0.827  0.823\n",
      " OL19-C:  0.837  0.826\n",
      " ABSD-2:  0.501  0.493\n",
      "  MIO-P:  0.573  0.584\n",
      "  ARCHI:  0.397  0.394\n",
      "   LSDC:  0.550  0.444\n"
     ]
    }
   ],
   "source": [
    "metric = 'acc'  # 'f1', 'f1-balanced', 'acc', 'acc-balanced'\n",
    "print('  Task | train | test')\n",
    "for res in results:\n",
    "    print(f\"{res['task']:>7s}: {res['train'][metric]:6.3f} {res['test'][metric]:6.3f}\")"
   ]
  },
  {
   "cell_type": "code",
   "execution_count": 11,
   "id": "f9fbc769-02c7-4a86-be83-313d7f04a96a",
   "metadata": {},
   "outputs": [
    {
     "name": "stdout",
     "output_type": "stream",
     "text": [
      "  Task | train | test\n",
      " FCLAIM:  0.583  0.553\n",
      "   VMWE:  0.453  0.451\n",
      " OL19-C:  0.468  0.470\n",
      " ABSD-2:  0.394  0.360\n",
      "  MIO-P:  0.537  0.546\n",
      "  ARCHI:  0.395  0.389\n",
      "   LSDC:  0.292  0.274\n"
     ]
    }
   ],
   "source": [
    "metric = 'f1-balanced'  # 'f1', 'f1-balanced', 'acc', 'acc-balanced'\n",
    "print('  Task | train | test')\n",
    "for res in results:\n",
    "    print(f\"{res['task']:>7s}: {res['train'][metric]:6.3f} {res['test'][metric]:6.3f}\")"
   ]
  },
  {
   "cell_type": "code",
   "execution_count": 12,
   "id": "55202679-8bee-48b9-8d4a-6728d8c51706",
   "metadata": {},
   "outputs": [
    {
     "name": "stdout",
     "output_type": "stream",
     "text": [
      "FCLAIM 944\n",
      "{'0': '630', '1': '314'}\n",
      "{'0': '523', '1': '421'}\n",
      "VMWE 1447\n",
      "{'1': '256', '0': '1191'}\n",
      "{'0': '1447'}\n",
      "OL19-C 930\n",
      "{'0': '796', '1': '134'}\n",
      "{'0': '896', '1': '34'}\n",
      "ABSD-2 2555\n",
      "{'1': '1670', '0': '780', '2': '105'}\n",
      "{'0': '604', '1': '1386', '2': '565'}\n",
      "MIO-P 4668\n",
      "{'1': '812', '0': '3856'}\n",
      "{'1': '2498', '0': '2170'}\n",
      "ARCHI 4743\n",
      "{'2': '1177', '3': '1176', '1': '1199', '0': '1191'}\n",
      "{'2': '950', '0': '800', '3': '1541', '1': '1452'}\n",
      "LSDC 8602\n",
      "{'13': '280', '6': '346', '12': '940', '3': '925', '2': '944', '1': '934', '11': '931', '0': '453', '10': '511', '5': '924', '4': '65', '8': '923', '9': '83', '7': '343'}\n",
      "{'5': '1270', '1': '974', '3': '1226', '11': '1269', '12': '888', '8': '1254', '0': '1231', '2': '490'}\n"
     ]
    }
   ],
   "source": [
    "# class label distributions (inference)\n",
    "for res in results:\n",
    "    print(res['task'], res['test']['num'])\n",
    "    print(res['test']['distr-test'])\n",
    "    print(res['test']['distr-pred'])"
   ]
  },
  {
   "cell_type": "code",
   "execution_count": 13,
   "id": "4e7f8b38-81c0-477c-a63c-eb46b2a08fc2",
   "metadata": {},
   "outputs": [
    {
     "name": "stdout",
     "output_type": "stream",
     "text": [
      "FCLAIM 3244\n",
      "{'0': '2141', '1': '1103'}\n",
      "{'1': '1445', '0': '1799'}\n",
      "VMWE 6652\n",
      "{'1': '1145', '0': '5507'}\n",
      "{'0': '6646', '1': '6'}\n",
      "OL19-C 1921\n",
      "{'0': '1664', '1': '257'}\n",
      "{'0': '1857', '1': '64'}\n",
      "ABSD-2 19432\n",
      "{'2': '1179', '1': '13208', '0': '5045'}\n",
      "{'2': '4867', '0': '4707', '1': '9858'}\n",
      "MIO-P 4668\n",
      "{'0': '3855', '1': '813'}\n",
      "{'1': '2552', '0': '2116'}\n",
      "ARCHI 18809\n",
      "{'1': '4797', '3': '4407', '2': '4802', '0': '4803'}\n",
      "{'1': '7240', '3': '4964', '0': '2748', '2': '3857'}\n",
      "LSDC 74140\n",
      "{'12': '15019', '8': '7829', '5': '13506', '1': '5294', '11': '13227', '3': '11002', '2': '5704', '13': '346', '10': '749', '7': '382', '9': '143', '0': '469', '6': '377', '4': '93'}\n",
      "{'2': '4447', '8': '10813', '11': '14584', '3': '11093', '5': '13664', '12': '10009', '0': '4372', '1': '5052', '7': '106'}\n"
     ]
    }
   ],
   "source": [
    "# class label distribution (training)\n",
    "for res in results:\n",
    "    print(res['task'], res['train']['num'])\n",
    "    print(res['train']['distr-train'])\n",
    "    print(res['train']['distr-pred'])"
   ]
  },
  {
   "cell_type": "code",
   "execution_count": null,
   "id": "6f2a7b0b-f295-4b80-a4b5-f2f5c06ef518",
   "metadata": {},
   "outputs": [],
   "source": []
  }
 ],
 "metadata": {
  "kernelspec": {
   "display_name": "Python 3 (ipykernel)",
   "language": "python",
   "name": "python3"
  },
  "language_info": {
   "codemirror_mode": {
    "name": "ipython",
    "version": 3
   },
   "file_extension": ".py",
   "mimetype": "text/x-python",
   "name": "python",
   "nbconvert_exporter": "python",
   "pygments_lexer": "ipython3",
   "version": "3.9.7"
  }
 },
 "nbformat": 4,
 "nbformat_minor": 5
}
