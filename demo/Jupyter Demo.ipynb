{
 "cells": [
  {
   "cell_type": "code",
   "execution_count": 1,
   "id": "4743dc34-766e-4e29-9e6f-6bf894f73c68",
   "metadata": {},
   "outputs": [],
   "source": [
    "import sys\n",
    "sys.path.append('..')"
   ]
  },
  {
   "cell_type": "code",
   "execution_count": 12,
   "id": "d97215c2-0daa-4d18-9b95-013791d9c3cb",
   "metadata": {},
   "outputs": [],
   "source": [
    "import sentence_embedding_evaluation_german as seeg\n",
    "import torch\n",
    "from typing import List"
   ]
  },
  {
   "cell_type": "markdown",
   "id": "0fbef9d6-654d-4188-a052-9143061d8cd5",
   "metadata": {},
   "source": [
    "## (1) Instantiate your Embedding model\n",
    "First, you should load your pretrained embedding.\n",
    "\n",
    "Here we will generate a random embedding for demonstration purposes."
   ]
  },
  {
   "cell_type": "code",
   "execution_count": 3,
   "id": "2d3cfc31-31ad-441e-869d-9970f7071a8d",
   "metadata": {},
   "outputs": [],
   "source": [
    "# generate a random embedding\n",
    "emb_dim = 512\n",
    "vocab_sz = 128\n",
    "emb = torch.randn((vocab_sz, emb_dim), requires_grad=False)\n",
    "emb = torch.nn.Embedding.from_pretrained(emb)\n",
    "# assert emb.weight.requires_grad == False"
   ]
  },
  {
   "cell_type": "markdown",
   "id": "8d877f18-a1e3-40ce-bd86-110169b6c8de",
   "metadata": {},
   "source": [
    "## (2) Specify the preprocessing\n",
    "The `preprocessor` function converts a sentences as string into embedding vectors of numbers.\n",
    "\n",
    "Here we will convert the input strings with a nonsensical approach into IDs for the Embedding layer."
   ]
  },
  {
   "cell_type": "code",
   "execution_count": 4,
   "id": "94c4dc56-c9d8-4e06-801e-3ae869852d4d",
   "metadata": {},
   "outputs": [],
   "source": [
    "def preprocesser(batch: List[str], params: dict=None) -> List[List[float]]:\n",
    "    \"\"\" Specify your embedding or pretrained encoder here\n",
    "    Paramters:\n",
    "    ----------\n",
    "    params : dict\n",
    "        The params dictionary\n",
    "    batch : List[str]\n",
    "        A list of sentence as string\n",
    "    Returns:\n",
    "    --------\n",
    "    List[List[float]]\n",
    "        A list of embedding vectors\n",
    "    \"\"\"\n",
    "    features = []\n",
    "    for sent in batch:\n",
    "        try:\n",
    "            ids = torch.tensor([ord(c) % 128 for c in sent])\n",
    "        except:\n",
    "            print(sent)\n",
    "        h = emb(ids)\n",
    "        features.append(h.mean(axis=0))\n",
    "    features = torch.stack(features, dim=0)\n",
    "    return features"
   ]
  },
  {
   "cell_type": "markdown",
   "id": "fd310db5-7909-406a-b125-c37325b87105",
   "metadata": {},
   "source": [
    "## (3) Training settings"
   ]
  },
  {
   "cell_type": "code",
   "execution_count": 5,
   "id": "02deec53-b58b-4d5f-ae37-77d69f2b4071",
   "metadata": {},
   "outputs": [],
   "source": [
    "params = {\n",
    "    'datafolder': '../datasets',\n",
    "    'batch_size': 64, \n",
    "    'num_epochs': 20,\n",
    "    # 'early_stopping': True,\n",
    "    # 'split_ratio': 0.2,  # if early_stopping=True\n",
    "    # 'patience': 5,  # if early_stopping=True\n",
    "}"
   ]
  },
  {
   "cell_type": "markdown",
   "id": "bb5ed1f1-1bb2-4c61-b1ed-d57569436e48",
   "metadata": {},
   "source": [
    "## (4) Specify downstream tasks"
   ]
  },
  {
   "cell_type": "code",
   "execution_count": 6,
   "id": "80e0b877-752c-4bde-b4ac-c51b16496ef6",
   "metadata": {},
   "outputs": [],
   "source": [
    "# downstream_tasks = [\n",
    "#     'TOXIC', 'ENGAGE', 'FCLAIM', \n",
    "#     'OL19A', 'OL19B', 'OL19C',\n",
    "#     'OL18A', 'OL18B', \n",
    "#     'ABSD1', 'ABSD2', 'ABSD3']\n",
    "\n",
    "downstream_tasks = [\n",
    "    'TOXIC', 'ENGAGE', 'FCLAIM', \n",
    "    'OL19B', 'OL19C',\n",
    "    'ABSD1', 'ABSD2']"
   ]
  },
  {
   "cell_type": "markdown",
   "id": "b59f4e17-b4a9-4c99-b41d-17a7364d1ead",
   "metadata": {},
   "source": [
    "## (5) Run experiments"
   ]
  },
  {
   "cell_type": "code",
   "execution_count": 7,
   "id": "dbc1d65f-034e-45eb-9d9c-f8db94deb3ff",
   "metadata": {},
   "outputs": [
    {
     "name": "stdout",
     "output_type": "stream",
     "text": [
      "CPU times: user 42.5 s, sys: 5.23 s, total: 47.8 s\n",
      "Wall time: 46 s\n"
     ]
    }
   ],
   "source": [
    "%%time\n",
    "results = seeg.evaluate(downstream_tasks, preprocesser, **params)"
   ]
  },
  {
   "cell_type": "markdown",
   "id": "af7e3482-6c13-43aa-8071-d7037e5b4e91",
   "metadata": {},
   "source": [
    "## (6) Display results"
   ]
  },
  {
   "cell_type": "code",
   "execution_count": 8,
   "id": "ac84999e-8dae-44c7-8442-371d49a0c60d",
   "metadata": {},
   "outputs": [
    {
     "data": {
      "text/plain": [
       "[('TOXIC', 20, 3244, 944),\n",
       " ('ENGAGE', 20, 3244, 944),\n",
       " ('FCLAIM', 20, 3244, 944),\n",
       " ('OL19B', 20, 3979, 3030),\n",
       " ('OL19C', 20, 1920, 929),\n",
       " ('ABSD1', 20, 19431, 2554),\n",
       " ('ABSD2', 20, 19431, 2554)]"
      ]
     },
     "execution_count": 8,
     "metadata": {},
     "output_type": "execute_result"
    }
   ],
   "source": [
    "[(res['task'], res['epochs'], res['train']['num'], res['test']['num']) for res in results]"
   ]
  },
  {
   "cell_type": "code",
   "execution_count": 9,
   "id": "f9fbc769-02c7-4a86-be83-313d7f04a96a",
   "metadata": {},
   "outputs": [
    {
     "data": {
      "text/plain": [
       "[('TOXIC', 0.6683107274969173),\n",
       " ('ENGAGE', 0.7361282367447596),\n",
       " ('FCLAIM', 0.6658446362515413),\n",
       " ('OL19B', 0.678059814023624),\n",
       " ('OL19C', 0.8661458333333333),\n",
       " ('ABSD1', 0.8337193144974525),\n",
       " ('ABSD2', 0.6797385620915033)]"
      ]
     },
     "execution_count": 9,
     "metadata": {},
     "output_type": "execute_result"
    }
   ],
   "source": [
    "metric = 'f1'\n",
    "mode = 'train'\n",
    "\n",
    "[(res['task'], res[mode][metric]) for res in results]"
   ]
  },
  {
   "cell_type": "code",
   "execution_count": 10,
   "id": "b491b97a-5f1b-474d-bcea-f1f1b4ed0b7d",
   "metadata": {},
   "outputs": [
    {
     "data": {
      "text/plain": [
       "[('TOXIC', 0.6271186440677966),\n",
       " ('ENGAGE', 0.736228813559322),\n",
       " ('FCLAIM', 0.6684322033898306),\n",
       " ('OL19B', 0.6801980198019802),\n",
       " ('OL19C', 0.8557588805166847),\n",
       " ('ABSD1', 0.8198903680501175),\n",
       " ('ABSD2', 0.6534847298355521)]"
      ]
     },
     "execution_count": 10,
     "metadata": {},
     "output_type": "execute_result"
    }
   ],
   "source": [
    "metric = 'f1'\n",
    "mode = 'test'\n",
    "\n",
    "[(res['task'], res[mode][metric]) for res in results]"
   ]
  },
  {
   "cell_type": "code",
   "execution_count": 11,
   "id": "19e97b37-adac-44a1-af0e-f4b9d10d8350",
   "metadata": {},
   "outputs": [
    {
     "data": {
      "text/plain": [
       "[('TOXIC', 0.38809213385484564),\n",
       " ('ENGAGE', 0.4392306646277021),\n",
       " ('FCLAIM', 0.4096593281666137),\n",
       " ('OL19B', 0.2024160282852092),\n",
       " ('OL19C', 0.4611368909512761),\n",
       " ('ABSD1', 0.45051635111876076),\n",
       " ('ABSD2', 0.26347778040887204)]"
      ]
     },
     "execution_count": 11,
     "metadata": {},
     "output_type": "execute_result"
    }
   ],
   "source": [
    "metric = 'f1-balanced'\n",
    "mode = 'test'\n",
    "\n",
    "[(res['task'], res[mode][metric]) for res in results]"
   ]
  },
  {
   "cell_type": "code",
   "execution_count": null,
   "id": "91d5ce64-96c5-4845-8a71-18955ebae0c2",
   "metadata": {},
   "outputs": [],
   "source": []
  }
 ],
 "metadata": {
  "kernelspec": {
   "display_name": "Python 3 (ipykernel)",
   "language": "python",
   "name": "python3"
  },
  "language_info": {
   "codemirror_mode": {
    "name": "ipython",
    "version": 3
   },
   "file_extension": ".py",
   "mimetype": "text/x-python",
   "name": "python",
   "nbconvert_exporter": "python",
   "pygments_lexer": "ipython3",
   "version": "3.7.9"
  }
 },
 "nbformat": 4,
 "nbformat_minor": 5
}
