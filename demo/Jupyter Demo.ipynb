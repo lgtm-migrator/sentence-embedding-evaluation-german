{
 "cells": [
  {
   "cell_type": "code",
   "execution_count": 1,
   "id": "4743dc34-766e-4e29-9e6f-6bf894f73c68",
   "metadata": {},
   "outputs": [],
   "source": [
    "import sys\n",
    "sys.path.append('..')"
   ]
  },
  {
   "cell_type": "code",
   "execution_count": 2,
   "id": "d97215c2-0daa-4d18-9b95-013791d9c3cb",
   "metadata": {},
   "outputs": [
    {
     "name": "stderr",
     "output_type": "stream",
     "text": [
      "/Users/uh/projects/paper-293/sentence-embedding-evaluation-german/.venv/lib/python3.7/site-packages/tqdm/auto.py:22: TqdmWarning: IProgress not found. Please update jupyter and ipywidgets. See https://ipywidgets.readthedocs.io/en/stable/user_install.html\n",
      "  from .autonotebook import tqdm as notebook_tqdm\n"
     ]
    }
   ],
   "source": [
    "import sentence_embedding_evaluation_german as seeg\n",
    "import torch\n",
    "from typing import List"
   ]
  },
  {
   "cell_type": "markdown",
   "id": "0fbef9d6-654d-4188-a052-9143061d8cd5",
   "metadata": {},
   "source": [
    "## (1) Instantiate your Embedding model\n",
    "First, you should load your pretrained embedding.\n",
    "\n",
    "Here we will generate a random embedding for demonstration purposes."
   ]
  },
  {
   "cell_type": "code",
   "execution_count": 3,
   "id": "2d3cfc31-31ad-441e-869d-9970f7071a8d",
   "metadata": {},
   "outputs": [],
   "source": [
    "# generate a random embedding\n",
    "emb_dim = 512\n",
    "vocab_sz = 128\n",
    "emb = torch.randn((vocab_sz, emb_dim), requires_grad=False)\n",
    "emb = torch.nn.Embedding.from_pretrained(emb)\n",
    "# assert emb.weight.requires_grad == False"
   ]
  },
  {
   "cell_type": "markdown",
   "id": "8d877f18-a1e3-40ce-bd86-110169b6c8de",
   "metadata": {},
   "source": [
    "## (2) Specify the preprocessing\n",
    "The `preprocessor` function converts a sentences as string into embedding vectors of numbers.\n",
    "\n",
    "Here we will convert the input strings with a nonsensical approach into IDs for the Embedding layer."
   ]
  },
  {
   "cell_type": "code",
   "execution_count": 4,
   "id": "94c4dc56-c9d8-4e06-801e-3ae869852d4d",
   "metadata": {},
   "outputs": [],
   "source": [
    "def preprocesser(batch: List[str], params: dict=None) -> List[List[float]]:\n",
    "    \"\"\" Specify your embedding or pretrained encoder here\n",
    "    Paramters:\n",
    "    ----------\n",
    "    params : dict\n",
    "        The params dictionary\n",
    "    batch : List[str]\n",
    "        A list of sentence as string\n",
    "    Returns:\n",
    "    --------\n",
    "    List[List[float]]\n",
    "        A list of embedding vectors\n",
    "    \"\"\"\n",
    "    features = []\n",
    "    for sent in batch:\n",
    "        try:\n",
    "            ids = torch.tensor([ord(c) % 128 for c in sent])\n",
    "        except:\n",
    "            print(sent)\n",
    "        h = emb(ids)\n",
    "        features.append(h.mean(axis=0))\n",
    "    features = torch.stack(features, dim=0)\n",
    "    return features"
   ]
  },
  {
   "cell_type": "markdown",
   "id": "fd310db5-7909-406a-b125-c37325b87105",
   "metadata": {},
   "source": [
    "## (3) Training settings"
   ]
  },
  {
   "cell_type": "code",
   "execution_count": 5,
   "id": "02deec53-b58b-4d5f-ae37-77d69f2b4071",
   "metadata": {},
   "outputs": [],
   "source": [
    "params = {\n",
    "    'datafolder': '../datasets',\n",
    "    'batch_size': 64, \n",
    "    'num_epochs': 20,\n",
    "    # 'early_stopping': True,\n",
    "    # 'split_ratio': 0.2,  # if early_stopping=True\n",
    "    # 'patience': 5,  # if early_stopping=True\n",
    "}"
   ]
  },
  {
   "cell_type": "markdown",
   "id": "bb5ed1f1-1bb2-4c61-b1ed-d57569436e48",
   "metadata": {},
   "source": [
    "## (4) Specify downstream tasks"
   ]
  },
  {
   "cell_type": "code",
   "execution_count": 6,
   "id": "80e0b877-752c-4bde-b4ac-c51b16496ef6",
   "metadata": {},
   "outputs": [],
   "source": [
    "# All\n",
    "# downstream_tasks = [\n",
    "#     'TOXIC', 'ENGAGE', 'FCLAIM', 'VMWE',\n",
    "#     'OL19-A', 'OL19-B', 'OL19-C',\n",
    "#     'OL18-A', 'OL18-B', \n",
    "#     'ABSD-1', 'ABSD-2', #'ABSD-3',\n",
    "#     'MIO-S', 'MIO-O', 'MIO-I', 'MIO-D', 'MIO-F', 'MIO-P', 'MIO-A',\n",
    "#     'SBCH-L', 'SBCH-S'\n",
    "# ]\n",
    "\n",
    "# Group tasks\n",
    "# downstream_tasks = [\n",
    "#     'ABSD-2', 'MIO-S', 'SBCH-S',  # Sentiment analysis\n",
    "#     'ENGAGE', 'MIO-P',  # engaging/personal\n",
    "#     'FCLAIM', 'MIO-A',  # fact-claim (potential fake news), argumentative, reasoning\n",
    "#     'TOXIC', 'OL19-A', 'OL19-B', 'OL19-C', 'MIO-O', 'MIO-I',  # toxic\n",
    "# ]\n",
    "\n",
    "# Current favorites\n",
    "downstream_tasks = ['FCLAIM', 'VMWE', 'OL19-C', 'ABSD-2', 'MIO-P', 'SBCH-L']"
   ]
  },
  {
   "cell_type": "markdown",
   "id": "b59f4e17-b4a9-4c99-b41d-17a7364d1ead",
   "metadata": {},
   "source": [
    "## (5) Run experiments"
   ]
  },
  {
   "cell_type": "code",
   "execution_count": 7,
   "id": "dbc1d65f-034e-45eb-9d9c-f8db94deb3ff",
   "metadata": {},
   "outputs": [
    {
     "name": "stdout",
     "output_type": "stream",
     "text": [
      "CPU times: user 29.7 s, sys: 3.26 s, total: 33 s\n",
      "Wall time: 30.7 s\n"
     ]
    }
   ],
   "source": [
    "%%time\n",
    "results = seeg.evaluate(downstream_tasks, preprocesser, **params)"
   ]
  },
  {
   "cell_type": "markdown",
   "id": "af7e3482-6c13-43aa-8071-d7037e5b4e91",
   "metadata": {},
   "source": [
    "## (6) Display results"
   ]
  },
  {
   "cell_type": "code",
   "execution_count": 8,
   "id": "ac84999e-8dae-44c7-8442-371d49a0c60d",
   "metadata": {},
   "outputs": [
    {
     "data": {
      "text/plain": [
       "[('FCLAIM', 20, 3244, 944),\n",
       " ('VMWE', 20, 6651, 1446),\n",
       " ('OL19-C', 20, 1920, 929),\n",
       " ('ABSD-2', 20, 19431, 2554),\n",
       " ('MIO-P', 20, 4668, 4668),\n",
       " ('SBCH-L', 20, 748, 748)]"
      ]
     },
     "execution_count": 8,
     "metadata": {},
     "output_type": "execute_result"
    }
   ],
   "source": [
    "[(res['task'], res['epochs'], res['train']['num'], res['test']['num']) for res in results]"
   ]
  },
  {
   "cell_type": "code",
   "execution_count": 9,
   "id": "f9fbc769-02c7-4a86-be83-313d7f04a96a",
   "metadata": {},
   "outputs": [
    {
     "data": {
      "text/plain": [
       "[('FCLAIM', 0.6615289765721332),\n",
       " ('VMWE', 0.8279957901067508),\n",
       " ('OL19-C', 0.8661458333333333),\n",
       " ('ABSD-2', 0.6797385620915033),\n",
       " ('MIO-P', 0.8258354755784063),\n",
       " ('SBCH-L', 0.6951871657754011)]"
      ]
     },
     "execution_count": 9,
     "metadata": {},
     "output_type": "execute_result"
    }
   ],
   "source": [
    "metric = 'f1'\n",
    "mode = 'train'\n",
    "\n",
    "[(res['task'], res[mode][metric]) for res in results]"
   ]
  },
  {
   "cell_type": "code",
   "execution_count": 10,
   "id": "b491b97a-5f1b-474d-bcea-f1f1b4ed0b7d",
   "metadata": {},
   "outputs": [
    {
     "data": {
      "text/plain": [
       "[('FCLAIM', 0.6673728813559322),\n",
       " ('VMWE', 0.8236514522821576),\n",
       " ('OL19-C', 0.8557588805166847),\n",
       " ('ABSD-2', 0.6534847298355521),\n",
       " ('MIO-P', 0.8260497000856898),\n",
       " ('SBCH-L', 0.6684491978609626)]"
      ]
     },
     "execution_count": 10,
     "metadata": {},
     "output_type": "execute_result"
    }
   ],
   "source": [
    "metric = 'f1'\n",
    "mode = 'test'\n",
    "\n",
    "[(res['task'], res[mode][metric]) for res in results]"
   ]
  },
  {
   "cell_type": "code",
   "execution_count": 11,
   "id": "19e97b37-adac-44a1-af0e-f4b9d10d8350",
   "metadata": {},
   "outputs": [
    {
     "data": {
      "text/plain": [
       "[('FCLAIM', 0.4092474489795918),\n",
       " ('VMWE', 0.45164960182025027),\n",
       " ('OL19-C', 0.4611368909512761),\n",
       " ('ABSD-2', 0.26347778040887204),\n",
       " ('MIO-P', 0.4523697794462694),\n",
       " ('SBCH-L', 0.6584474885844749)]"
      ]
     },
     "execution_count": 11,
     "metadata": {},
     "output_type": "execute_result"
    }
   ],
   "source": [
    "metric = 'f1-balanced'\n",
    "mode = 'test'\n",
    "\n",
    "[(res['task'], res[mode][metric]) for res in results]"
   ]
  },
  {
   "cell_type": "code",
   "execution_count": 12,
   "id": "4e7f8b38-81c0-477c-a63c-eb46b2a08fc2",
   "metadata": {},
   "outputs": [
    {
     "data": {
      "text/plain": [
       "[('FCLAIM', 3244, {0: 2141, 1: 1103}, {0: 3219, 1: 25}),\n",
       " ('VMWE', 6651, {1: 1144, 0: 5507}, {0: 6651}),\n",
       " ('OL19-C', 1920, {0: 1663, 1: 257}, {0: 1920}),\n",
       " ('ABSD-2', 19431, {1: 13208, 0: 5045, 2: 1178}, {1: 19431}),\n",
       " ('MIO-P', 4668, {0: 3855, 1: 813}, {0: 4668}),\n",
       " ('SBCH-L', 748, {1: 403, 0: 345}, {1: 479, 0: 269})]"
      ]
     },
     "execution_count": 12,
     "metadata": {},
     "output_type": "execute_result"
    }
   ],
   "source": [
    "# class label distribution (training)\n",
    "[(res['task'], res['train']['num'], res['train']['distr-train'], res['train']['distr-pred']) for res in results]"
   ]
  },
  {
   "cell_type": "code",
   "execution_count": 13,
   "id": "55202679-8bee-48b9-8d4a-6728d8c51706",
   "metadata": {},
   "outputs": [
    {
     "data": {
      "text/plain": [
       "[('FCLAIM', 944, {0: 630, 1: 314}, {0: 938, 1: 6}),\n",
       " ('VMWE', 1446, {1: 255, 0: 1191}, {0: 1446}),\n",
       " ('OL19-C', 929, {0: 795, 1: 134}, {0: 929}),\n",
       " ('ABSD-2', 2554, {1: 1669, 0: 780, 2: 105}, {1: 2554}),\n",
       " ('MIO-P', 4668, {1: 812, 0: 3856}, {0: 4668}),\n",
       " ('SBCH-L', 748, {0: 346, 1: 402}, {1: 474, 0: 274})]"
      ]
     },
     "execution_count": 13,
     "metadata": {},
     "output_type": "execute_result"
    }
   ],
   "source": [
    "# class label distributions (inference)\n",
    "[(res['task'], res['test']['num'], res['test']['distr-test'], res['test']['distr-pred']) for res in results]"
   ]
  }
 ],
 "metadata": {
  "kernelspec": {
   "display_name": "Python 3 (ipykernel)",
   "language": "python",
   "name": "python3"
  },
  "language_info": {
   "codemirror_mode": {
    "name": "ipython",
    "version": 3
   },
   "file_extension": ".py",
   "mimetype": "text/x-python",
   "name": "python",
   "nbconvert_exporter": "python",
   "pygments_lexer": "ipython3",
   "version": "3.7.9"
  }
 },
 "nbformat": 4,
 "nbformat_minor": 5
}
