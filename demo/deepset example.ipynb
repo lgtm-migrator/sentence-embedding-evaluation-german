{
 "cells": [
  {
   "cell_type": "markdown",
   "metadata": {
    "id": "qYJbw_-Fv1TH"
   },
   "source": [
    "## Download & install packages and models"
   ]
  },
  {
   "cell_type": "code",
   "execution_count": 1,
   "metadata": {
    "executionInfo": {
     "elapsed": 3366,
     "status": "ok",
     "timestamp": 1650389064918,
     "user": {
      "displayName": "Ulf Hamster",
      "userId": "17569698098126794188"
     },
     "user_tz": -120
    },
    "id": "EiZKkBZXvbzk"
   },
   "outputs": [],
   "source": [
    "import sys\n",
    "sys.path.append('..')"
   ]
  },
  {
   "cell_type": "code",
   "execution_count": 2,
   "metadata": {
    "executionInfo": {
     "elapsed": 14833,
     "status": "ok",
     "timestamp": 1650389140014,
     "user": {
      "displayName": "Ulf Hamster",
      "userId": "17569698098126794188"
     },
     "user_tz": -120
    },
    "id": "sTjeYBFGuvwM"
   },
   "outputs": [
    {
     "name": "stderr",
     "output_type": "stream",
     "text": [
      "/Users/uh/projects/paper-293/sentence-embedding-evaluation-german/.venv/lib/python3.7/site-packages/tqdm/auto.py:22: TqdmWarning: IProgress not found. Please update jupyter and ipywidgets. See https://ipywidgets.readthedocs.io/en/stable/user_install.html\n",
      "  from .autonotebook import tqdm as notebook_tqdm\n"
     ]
    }
   ],
   "source": [
    "from typing import List\n",
    "import sentence_embedding_evaluation_german as seeg\n",
    "import torch\n",
    "import numpy as np"
   ]
  },
  {
   "cell_type": "code",
   "execution_count": 3,
   "metadata": {
    "executionInfo": {
     "elapsed": 93094,
     "status": "ok",
     "timestamp": 1650389233089,
     "user": {
      "displayName": "Ulf Hamster",
      "userId": "17569698098126794188"
     },
     "user_tz": -120
    },
    "id": "af7fcl2HvsjY"
   },
   "outputs": [],
   "source": [
    "%%capture\n",
    "!pip install fasttext\n",
    "# https://www.deepset.ai/german-word-embeddings\n",
    "!wget -nc \"https://s3.eu-central-1.amazonaws.com/int-emb-fasttext-de-wiki/20180917/model.bin\""
   ]
  },
  {
   "cell_type": "code",
   "execution_count": 4,
   "metadata": {
    "executionInfo": {
     "elapsed": 11,
     "status": "ok",
     "timestamp": 1650389233091,
     "user": {
      "displayName": "Ulf Hamster",
      "userId": "17569698098126794188"
     },
     "user_tz": -120
    },
    "id": "DoEUr6HTZZuN"
   },
   "outputs": [],
   "source": [
    "import fasttext.util"
   ]
  },
  {
   "cell_type": "markdown",
   "metadata": {
    "id": "bLKzlBlrv7fW"
   },
   "source": [
    "## Specify & run sentence embedding evaluation"
   ]
  },
  {
   "cell_type": "code",
   "execution_count": 5,
   "metadata": {
    "colab": {
     "base_uri": "https://localhost:8080/"
    },
    "id": "D0rKxkCCv0gj",
    "outputId": "b815d491-6f71-4c26-d5f9-7f41216c4926"
   },
   "outputs": [
    {
     "name": "stderr",
     "output_type": "stream",
     "text": [
      "Warning : `load_model` does not return WordVectorModel or SupervisedModel any more, but a `FastText` object which is very similar.\n"
     ]
    },
    {
     "name": "stdout",
     "output_type": "stream",
     "text": [
      "CPU times: user 17min 39s, sys: 1min 2s, total: 18min 41s\n",
      "Wall time: 19min 4s\n"
     ]
    }
   ],
   "source": [
    "%%time\n",
    "# (1) Instantiate your Embedding model\n",
    "ft = fasttext.load_model('model.bin')\n",
    "\n",
    "# (2) Specify the preprocessing\n",
    "def preprocesser(batch: List[str], params: dict=None) -> List[List[float]]:\n",
    "    \"\"\" Specify your embedding or pretrained encoder here\n",
    "    Paramters:\n",
    "    ----------\n",
    "    params : dict\n",
    "        The params dictionary\n",
    "    batch : List[str]\n",
    "        A list of sentence as string\n",
    "    Returns:\n",
    "    --------\n",
    "    List[List[float]]\n",
    "        A list of embedding vectors\n",
    "    \"\"\"\n",
    "    features = np.vstack([\n",
    "        ft.get_sentence_vector(str(sent).replace(\"\\n\", \" \")) for sent in batch])\n",
    "    return features\n",
    "\n",
    "# (3) Training settings\n",
    "params = {\n",
    "    'datafolder': '../datasets',\n",
    "    'bias': True,\n",
    "    'balanced': True,\n",
    "    'batch_size': 128, \n",
    "    'num_epochs': 500,\n",
    "    # 'early_stopping': True,\n",
    "    # 'split_ratio': 0.1,  # if early_stopping=True\n",
    "    # 'patience': 10,  # if early_stopping=True\n",
    "}\n",
    "\n",
    "# (4) Specify downstream tasks\n",
    "downstream_tasks = ['FCLAIM', 'VMWE', 'OL19-C', 'ABSD-2', 'MIO-P', 'ARCHI', 'LSDC']\n",
    "\n",
    "# (5) Run experiments\n",
    "results = seeg.evaluate(downstream_tasks, preprocesser, **params)"
   ]
  },
  {
   "cell_type": "code",
   "execution_count": 7,
   "metadata": {
    "id": "k7xylM3p0k9s"
   },
   "outputs": [],
   "source": [
    "# save results\n",
    "import json\n",
    "with open(\"seeg-results-deepset.json\", 'w') as fp:\n",
    "    json.dump(results, fp, indent=2)"
   ]
  },
  {
   "cell_type": "markdown",
   "metadata": {
    "id": "pLr2z5YEyCd0"
   },
   "source": [
    "## Display the results"
   ]
  },
  {
   "cell_type": "code",
   "execution_count": 8,
   "metadata": {
    "id": "eUomhnL1wz8J"
   },
   "outputs": [
    {
     "name": "stdout",
     "output_type": "stream",
     "text": [
      "Task | Epochs | N train | N test\n",
      " FCLAIM:   500   3244    944\n",
      "   VMWE:   500   6652   1447\n",
      " OL19-C:   500   1921    930\n",
      " ABSD-2:   500  19432   2555\n",
      "  MIO-P:   500   4668   4668\n",
      "  ARCHI:   500  18809   4743\n",
      "   LSDC:   500  74140   8602\n"
     ]
    }
   ],
   "source": [
    "print(\"Task | Epochs | N train | N test\")\n",
    "for res in results:\n",
    "    print(f\"{res['task']:>7s}: {res['epochs']:5d} {res['train']['num']:6d} {res['test']['num']:6d}\")"
   ]
  },
  {
   "cell_type": "code",
   "execution_count": 9,
   "metadata": {
    "id": "l8FEvnsZyUKB"
   },
   "outputs": [
    {
     "name": "stdout",
     "output_type": "stream",
     "text": [
      "  Task | train | test\n",
      " FCLAIM:  0.616  0.597\n",
      "   VMWE:  0.837  0.838\n",
      " OL19-C:  0.778  0.752\n",
      " ABSD-2:  0.546  0.533\n",
      "  MIO-P:  0.688  0.694\n",
      "  ARCHI:  0.521  0.416\n",
      "   LSDC:  0.599  0.458\n"
     ]
    }
   ],
   "source": [
    "metric = 'acc'  # 'acc', 'acc-balanced'\n",
    "print('  Task | train | test')\n",
    "for res in results:\n",
    "    print(f\"{res['task']:>7s}: {res['train'][metric]:6.3f} {res['test'][metric]:6.3f}\")"
   ]
  },
  {
   "cell_type": "code",
   "execution_count": 10,
   "metadata": {},
   "outputs": [
    {
     "name": "stdout",
     "output_type": "stream",
     "text": [
      "  Task | train | test\n",
      " FCLAIM:  0.630  0.607\n",
      "   VMWE:  0.678  0.688\n",
      " OL19-C:  0.600  0.551\n",
      " ABSD-2:  0.534  0.471\n",
      "  MIO-P:  0.741  0.743\n",
      "  ARCHI:  0.521  0.416\n",
      "   LSDC:  0.295  0.303\n"
     ]
    }
   ],
   "source": [
    "metric = 'acc-balanced'  # 'acc', 'acc-balanced'\n",
    "print('  Task | train | test')\n",
    "for res in results:\n",
    "    print(f\"{res['task']:>7s}: {res['train'][metric]:6.3f} {res['test'][metric]:6.3f}\")"
   ]
  },
  {
   "cell_type": "code",
   "execution_count": 11,
   "metadata": {},
   "outputs": [
    {
     "name": "stdout",
     "output_type": "stream",
     "text": [
      "  Task | train | test\n",
      " FCLAIM:  0.616  0.597\n",
      "   VMWE:  0.837  0.838\n",
      " OL19-C:  0.778  0.752\n",
      " ABSD-2:  0.546  0.533\n",
      "  MIO-P:  0.688  0.694\n",
      "  ARCHI:  0.521  0.416\n",
      "   LSDC:  0.599  0.458\n"
     ]
    }
   ],
   "source": [
    "metric = 'f1'  # 'f1', 'f1-balanced'\n",
    "print('  Task | train | test')\n",
    "for res in results:\n",
    "    print(f\"{res['task']:>7s}: {res['train'][metric]:6.3f} {res['test'][metric]:6.3f}\")"
   ]
  },
  {
   "cell_type": "code",
   "execution_count": 12,
   "metadata": {
    "id": "-9pvzgqmyPfj"
   },
   "outputs": [
    {
     "name": "stdout",
     "output_type": "stream",
     "text": [
      "  Task | train | test\n",
      " FCLAIM:  0.606  0.585\n",
      "   VMWE:  0.691  0.701\n",
      " OL19-C:  0.584  0.545\n",
      " ABSD-2:  0.458  0.418\n",
      "  MIO-P:  0.628  0.632\n",
      "  ARCHI:  0.520  0.408\n",
      "   LSDC:  0.274  0.239\n"
     ]
    }
   ],
   "source": [
    "metric = 'f1-balanced'  # 'f1', 'f1-balanced'\n",
    "print('  Task | train | test')\n",
    "for res in results:\n",
    "    print(f\"{res['task']:>7s}: {res['train'][metric]:6.3f} {res['test'][metric]:6.3f}\")"
   ]
  },
  {
   "cell_type": "code",
   "execution_count": 13,
   "metadata": {
    "id": "rg_m8DuZycuN"
   },
   "outputs": [
    {
     "name": "stdout",
     "output_type": "stream",
     "text": [
      "FCLAIM 944\n",
      "{'0': '630', '1': '314'}\n",
      "{'1': '464', '0': '480'}\n",
      "VMWE 1447\n",
      "{'1': '256', '0': '1191'}\n",
      "{'1': '213', '0': '1234'}\n",
      "OL19-C 930\n",
      "{'0': '796', '1': '134'}\n",
      "{'0': '761', '1': '169'}\n",
      "ABSD-2 2555\n",
      "{'1': '1670', '0': '780', '2': '105'}\n",
      "{'0': '1113', '1': '1056', '2': '386'}\n",
      "MIO-P 4668\n",
      "{'1': '812', '0': '3856'}\n",
      "{'1': '1941', '0': '2727'}\n",
      "ARCHI 4743\n",
      "{'2': '1177', '3': '1176', '1': '1199', '0': '1191'}\n",
      "{'2': '1555', '3': '726', '0': '1129', '1': '1333'}\n",
      "LSDC 8602\n",
      "{'13': '280', '6': '346', '12': '940', '3': '925', '2': '944', '1': '934', '11': '931', '0': '453', '10': '511', '5': '924', '4': '65', '8': '923', '9': '83', '7': '343'}\n",
      "{'1': '2026', '12': '1381', '3': '1506', '11': '1198', '5': '1392', '8': '1097', '7': '2'}\n"
     ]
    }
   ],
   "source": [
    "# class label distributions (inference)\n",
    "for res in results:\n",
    "    print(res['task'], res['test']['num'])\n",
    "    print(res['test']['distr-test'])\n",
    "    print(res['test']['distr-pred'])"
   ]
  },
  {
   "cell_type": "code",
   "execution_count": null,
   "metadata": {
    "id": "MlJCwluYXivN"
   },
   "outputs": [],
   "source": []
  }
 ],
 "metadata": {
  "colab": {
   "authorship_tag": "ABX9TyObvUKx7m7+g7Gmv5+5qdW5",
   "collapsed_sections": [],
   "name": "deepset example.ipynb",
   "provenance": []
  },
  "kernelspec": {
   "display_name": "Python 3 (ipykernel)",
   "language": "python",
   "name": "python3"
  },
  "language_info": {
   "codemirror_mode": {
    "name": "ipython",
    "version": 3
   },
   "file_extension": ".py",
   "mimetype": "text/x-python",
   "name": "python",
   "nbconvert_exporter": "python",
   "pygments_lexer": "ipython3",
   "version": "3.7.9"
  }
 },
 "nbformat": 4,
 "nbformat_minor": 4
}
